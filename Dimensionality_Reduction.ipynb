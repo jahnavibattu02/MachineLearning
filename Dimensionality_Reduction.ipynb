{
  "nbformat": 4,
  "nbformat_minor": 5,
  "metadata": {
    "kernelspec": {
      "display_name": "Python 3",
      "language": "python",
      "name": "python3"
    },
    "language_info": {
      "codemirror_mode": {
        "name": "ipython",
        "version": 3
      },
      "file_extension": ".py",
      "mimetype": "text/x-python",
      "name": "python",
      "nbconvert_exporter": "python",
      "pygments_lexer": "ipython3",
      "version": "3.6.13"
    },
    "colab": {
      "name": "SaiDileepKumarMukkamala_Dimensionality_Reduction.ipynb",
      "provenance": []
    }
  },
  "cells": [
    {
      "cell_type": "markdown",
      "metadata": {
        "id": "authentic-array"
      },
      "source": [
        "# Unsupervised(Dimensionality reduction) Learning using Scikit Learn - Machine Learning with Python\n",
        "\n",
        "\n",
        "![](https://i.imgur.com/eyfi64y.png)"
      ],
      "id": "authentic-array"
    },
    {
      "cell_type": "markdown",
      "metadata": {
        "id": "limiting-darwin"
      },
      "source": [
        "The following topics are covered in this tutorial:\n",
        "\n",
        "- Overview of unsupervised learning algorithms in Scikit-learn\n",
        "- Dimensionality reduction (PCA) and manifold learning (t-SNE)\n"
      ],
      "id": "limiting-darwin"
    },
    {
      "cell_type": "markdown",
      "metadata": {
        "id": "prepared-handling"
      },
      "source": [
        "Let's install the required libraries."
      ],
      "id": "prepared-handling"
    },
    {
      "cell_type": "code",
      "metadata": {
        "id": "laden-romance"
      },
      "source": [
        "!pip install numpy pandas matplotlib seaborn --quiet"
      ],
      "id": "laden-romance",
      "execution_count": 47,
      "outputs": []
    },
    {
      "cell_type": "code",
      "metadata": {
        "id": "correct-color"
      },
      "source": [
        "!pip install scikit-learn  --upgrade --quiet"
      ],
      "id": "correct-color",
      "execution_count": 48,
      "outputs": []
    },
    {
      "cell_type": "markdown",
      "metadata": {
        "id": "nominated-loading"
      },
      "source": [
        "## Introduction to Unsupervised Learning\n",
        "\n",
        "Unsupervised machine learning refers to the category of machine learning techniques where models are trained on a dataset without labels. Unsupervised learning is generally use to discover patterns in data and reduce high-dimensional data to fewer dimensions. Here's how unsupervised learning fits into the landscape of machine learning algorithms([source](https://medium.datadriveninvestor.com/machine-learning-in-10-minutes-354d83e5922e)):\n",
        "\n",
        "<img src=\"https://miro.medium.com/max/842/1*tlQwBmbL6RkuuFq8OPJofw.png\" width=\"640\">"
      ],
      "id": "nominated-loading"
    },
    {
      "cell_type": "markdown",
      "metadata": {
        "id": "authorized-assist"
      },
      "source": [
        "Here are the topics in machine learning that we're studying in this series ([source](https://vas3k.com/blog/machine_learning/)): \n",
        "\n",
        "<img src=\"https://i.imgur.com/VbVFAsg.png\" width=\"640\">\n"
      ],
      "id": "authorized-assist"
    },
    {
      "cell_type": "markdown",
      "metadata": {
        "id": "abandoned-worst"
      },
      "source": [
        "Scikit-learn offers the following cheatsheet to decide which model to pick for a given problem. Can you identify the unsupervised learning algorithms?\n",
        "\n",
        "![](https://scikit-learn.org/stable/_static/ml_map.png)\n",
        "\n",
        "Here is a full list of unsupervised learning algorithms available in Scikit-learn: https://scikit-learn.org/stable/unsupervised_learning.html"
      ],
      "id": "abandoned-worst"
    },
    {
      "cell_type": "code",
      "metadata": {
        "id": "saving-strap"
      },
      "source": [
        "import matplotlib.pyplot as plt\n",
        "import seaborn as sns\n",
        "sns.set_style('darkgrid')\n",
        "%matplotlib inline"
      ],
      "id": "saving-strap",
      "execution_count": 49,
      "outputs": []
    },
    {
      "cell_type": "code",
      "metadata": {
        "id": "pretty-ballet"
      },
      "source": [
        "iris_df = sns.load_dataset('iris')"
      ],
      "id": "pretty-ballet",
      "execution_count": 50,
      "outputs": []
    },
    {
      "cell_type": "code",
      "metadata": {
        "colab": {
          "base_uri": "https://localhost:8080/",
          "height": 417
        },
        "id": "lined-czech",
        "outputId": "ca6d1187-545d-4228-9cd3-e3c6a283735d"
      },
      "source": [
        "iris_df"
      ],
      "id": "lined-czech",
      "execution_count": 51,
      "outputs": [
        {
          "output_type": "execute_result",
          "data": {
            "text/html": [
              "<div>\n",
              "<style scoped>\n",
              "    .dataframe tbody tr th:only-of-type {\n",
              "        vertical-align: middle;\n",
              "    }\n",
              "\n",
              "    .dataframe tbody tr th {\n",
              "        vertical-align: top;\n",
              "    }\n",
              "\n",
              "    .dataframe thead th {\n",
              "        text-align: right;\n",
              "    }\n",
              "</style>\n",
              "<table border=\"1\" class=\"dataframe\">\n",
              "  <thead>\n",
              "    <tr style=\"text-align: right;\">\n",
              "      <th></th>\n",
              "      <th>sepal_length</th>\n",
              "      <th>sepal_width</th>\n",
              "      <th>petal_length</th>\n",
              "      <th>petal_width</th>\n",
              "      <th>species</th>\n",
              "    </tr>\n",
              "  </thead>\n",
              "  <tbody>\n",
              "    <tr>\n",
              "      <th>0</th>\n",
              "      <td>5.1</td>\n",
              "      <td>3.5</td>\n",
              "      <td>1.4</td>\n",
              "      <td>0.2</td>\n",
              "      <td>setosa</td>\n",
              "    </tr>\n",
              "    <tr>\n",
              "      <th>1</th>\n",
              "      <td>4.9</td>\n",
              "      <td>3.0</td>\n",
              "      <td>1.4</td>\n",
              "      <td>0.2</td>\n",
              "      <td>setosa</td>\n",
              "    </tr>\n",
              "    <tr>\n",
              "      <th>2</th>\n",
              "      <td>4.7</td>\n",
              "      <td>3.2</td>\n",
              "      <td>1.3</td>\n",
              "      <td>0.2</td>\n",
              "      <td>setosa</td>\n",
              "    </tr>\n",
              "    <tr>\n",
              "      <th>3</th>\n",
              "      <td>4.6</td>\n",
              "      <td>3.1</td>\n",
              "      <td>1.5</td>\n",
              "      <td>0.2</td>\n",
              "      <td>setosa</td>\n",
              "    </tr>\n",
              "    <tr>\n",
              "      <th>4</th>\n",
              "      <td>5.0</td>\n",
              "      <td>3.6</td>\n",
              "      <td>1.4</td>\n",
              "      <td>0.2</td>\n",
              "      <td>setosa</td>\n",
              "    </tr>\n",
              "    <tr>\n",
              "      <th>...</th>\n",
              "      <td>...</td>\n",
              "      <td>...</td>\n",
              "      <td>...</td>\n",
              "      <td>...</td>\n",
              "      <td>...</td>\n",
              "    </tr>\n",
              "    <tr>\n",
              "      <th>145</th>\n",
              "      <td>6.7</td>\n",
              "      <td>3.0</td>\n",
              "      <td>5.2</td>\n",
              "      <td>2.3</td>\n",
              "      <td>virginica</td>\n",
              "    </tr>\n",
              "    <tr>\n",
              "      <th>146</th>\n",
              "      <td>6.3</td>\n",
              "      <td>2.5</td>\n",
              "      <td>5.0</td>\n",
              "      <td>1.9</td>\n",
              "      <td>virginica</td>\n",
              "    </tr>\n",
              "    <tr>\n",
              "      <th>147</th>\n",
              "      <td>6.5</td>\n",
              "      <td>3.0</td>\n",
              "      <td>5.2</td>\n",
              "      <td>2.0</td>\n",
              "      <td>virginica</td>\n",
              "    </tr>\n",
              "    <tr>\n",
              "      <th>148</th>\n",
              "      <td>6.2</td>\n",
              "      <td>3.4</td>\n",
              "      <td>5.4</td>\n",
              "      <td>2.3</td>\n",
              "      <td>virginica</td>\n",
              "    </tr>\n",
              "    <tr>\n",
              "      <th>149</th>\n",
              "      <td>5.9</td>\n",
              "      <td>3.0</td>\n",
              "      <td>5.1</td>\n",
              "      <td>1.8</td>\n",
              "      <td>virginica</td>\n",
              "    </tr>\n",
              "  </tbody>\n",
              "</table>\n",
              "<p>150 rows × 5 columns</p>\n",
              "</div>"
            ],
            "text/plain": [
              "     sepal_length  sepal_width  petal_length  petal_width    species\n",
              "0             5.1          3.5           1.4          0.2     setosa\n",
              "1             4.9          3.0           1.4          0.2     setosa\n",
              "2             4.7          3.2           1.3          0.2     setosa\n",
              "3             4.6          3.1           1.5          0.2     setosa\n",
              "4             5.0          3.6           1.4          0.2     setosa\n",
              "..            ...          ...           ...          ...        ...\n",
              "145           6.7          3.0           5.2          2.3  virginica\n",
              "146           6.3          2.5           5.0          1.9  virginica\n",
              "147           6.5          3.0           5.2          2.0  virginica\n",
              "148           6.2          3.4           5.4          2.3  virginica\n",
              "149           5.9          3.0           5.1          1.8  virginica\n",
              "\n",
              "[150 rows x 5 columns]"
            ]
          },
          "metadata": {},
          "execution_count": 51
        }
      ]
    },
    {
      "cell_type": "code",
      "metadata": {
        "colab": {
          "base_uri": "https://localhost:8080/",
          "height": 280
        },
        "id": "international-battery",
        "outputId": "7260648a-ccb1-4ffd-c3c5-0ff1fdd3c5c6"
      },
      "source": [
        "sns.scatterplot(data=iris_df, x='sepal_length', y='petal_length', hue='species');"
      ],
      "id": "international-battery",
      "execution_count": 52,
      "outputs": [
        {
          "output_type": "display_data",
          "data": {
            "image/png": "[encoded data removed]",
            "text/plain": [
              "<Figure size 432x288 with 1 Axes>"
            ]
          },
          "metadata": {
            "needs_background": "light"
          }
        }
      ]
    },
    {
      "cell_type": "markdown",
      "metadata": {
        "id": "agreed-organic"
      },
      "source": [
        "We'll attempt to cluster observations using numeric columns in the data. "
      ],
      "id": "agreed-organic"
    },
    {
      "cell_type": "code",
      "metadata": {
        "id": "indie-alberta"
      },
      "source": [
        "numeric_cols = [\"sepal_length\", \"sepal_width\", \"petal_length\", \"petal_width\"]"
      ],
      "id": "indie-alberta",
      "execution_count": 53,
      "outputs": []
    },
    {
      "cell_type": "code",
      "metadata": {
        "id": "competent-advertiser"
      },
      "source": [
        "X = iris_df[numeric_cols]"
      ],
      "id": "competent-advertiser",
      "execution_count": 54,
      "outputs": []
    },
    {
      "cell_type": "markdown",
      "metadata": {
        "id": "essential-runner"
      },
      "source": [
        "## Dimensionality Reduction and Manifold Learning\n",
        "\n",
        "In machine learning problems, we often encounter datasets with a very large number of dimensions (features or columns). Dimensionality reduction techniques are used to reduce the number of dimensions or features within the data to a manageable or convenient number. \n",
        "\n",
        "\n",
        "Applications of dimensionality reduction:\n",
        "\n",
        "* Reducing size of data without loss of information\n",
        "* Training machine learning models efficiently\n",
        "* Visualizing high-dimensional data in 2/3 dimensions\n"
      ],
      "id": "essential-runner"
    },
    {
      "cell_type": "markdown",
      "metadata": {
        "id": "binding-rwanda"
      },
      "source": [
        "### Principal Component Analysis (PCA)\n",
        "\n",
        "Principal component is a dimensionality reduction technique that uses linear projections of data to reduce their dimensions, while attempting to maximize the variance of data in the projection. Watch this video to learn how PCA works: https://www.youtube.com/watch?v=FgakZw6K1QQ\n",
        "\n",
        "Here's an example of PCA to reduce 2D data to 1D:\n",
        "\n",
        "<img src=\"https://i.imgur.com/ZJ7utlo.png\" width=\"480\">\n",
        "\n",
        "Here's an example of PCA to reduce 3D data to 2D:\n",
        "\n",
        "<img src=\"https://lihan.me/assets/images/pca-illustration.png\" width=\"640\">\n",
        "\n",
        "\n",
        "Let's apply Principal Component Analysis to the Iris dataset."
      ],
      "id": "binding-rwanda"
    },
    {
      "cell_type": "code",
      "metadata": {
        "colab": {
          "base_uri": "https://localhost:8080/",
          "height": 417
        },
        "id": "casual-brand",
        "outputId": "2a35e68b-7044-4b59-e720-238066a58e0e"
      },
      "source": [
        "iris_df"
      ],
      "id": "casual-brand",
      "execution_count": 55,
      "outputs": [
        {
          "output_type": "execute_result",
          "data": {
            "text/html": [
              "<div>\n",
              "<style scoped>\n",
              "    .dataframe tbody tr th:only-of-type {\n",
              "        vertical-align: middle;\n",
              "    }\n",
              "\n",
              "    .dataframe tbody tr th {\n",
              "        vertical-align: top;\n",
              "    }\n",
              "\n",
              "    .dataframe thead th {\n",
              "        text-align: right;\n",
              "    }\n",
              "</style>\n",
              "<table border=\"1\" class=\"dataframe\">\n",
              "  <thead>\n",
              "    <tr style=\"text-align: right;\">\n",
              "      <th></th>\n",
              "      <th>sepal_length</th>\n",
              "      <th>sepal_width</th>\n",
              "      <th>petal_length</th>\n",
              "      <th>petal_width</th>\n",
              "      <th>species</th>\n",
              "    </tr>\n",
              "  </thead>\n",
              "  <tbody>\n",
              "    <tr>\n",
              "      <th>0</th>\n",
              "      <td>5.1</td>\n",
              "      <td>3.5</td>\n",
              "      <td>1.4</td>\n",
              "      <td>0.2</td>\n",
              "      <td>setosa</td>\n",
              "    </tr>\n",
              "    <tr>\n",
              "      <th>1</th>\n",
              "      <td>4.9</td>\n",
              "      <td>3.0</td>\n",
              "      <td>1.4</td>\n",
              "      <td>0.2</td>\n",
              "      <td>setosa</td>\n",
              "    </tr>\n",
              "    <tr>\n",
              "      <th>2</th>\n",
              "      <td>4.7</td>\n",
              "      <td>3.2</td>\n",
              "      <td>1.3</td>\n",
              "      <td>0.2</td>\n",
              "      <td>setosa</td>\n",
              "    </tr>\n",
              "    <tr>\n",
              "      <th>3</th>\n",
              "      <td>4.6</td>\n",
              "      <td>3.1</td>\n",
              "      <td>1.5</td>\n",
              "      <td>0.2</td>\n",
              "      <td>setosa</td>\n",
              "    </tr>\n",
              "    <tr>\n",
              "      <th>4</th>\n",
              "      <td>5.0</td>\n",
              "      <td>3.6</td>\n",
              "      <td>1.4</td>\n",
              "      <td>0.2</td>\n",
              "      <td>setosa</td>\n",
              "    </tr>\n",
              "    <tr>\n",
              "      <th>...</th>\n",
              "      <td>...</td>\n",
              "      <td>...</td>\n",
              "      <td>...</td>\n",
              "      <td>...</td>\n",
              "      <td>...</td>\n",
              "    </tr>\n",
              "    <tr>\n",
              "      <th>145</th>\n",
              "      <td>6.7</td>\n",
              "      <td>3.0</td>\n",
              "      <td>5.2</td>\n",
              "      <td>2.3</td>\n",
              "      <td>virginica</td>\n",
              "    </tr>\n",
              "    <tr>\n",
              "      <th>146</th>\n",
              "      <td>6.3</td>\n",
              "      <td>2.5</td>\n",
              "      <td>5.0</td>\n",
              "      <td>1.9</td>\n",
              "      <td>virginica</td>\n",
              "    </tr>\n",
              "    <tr>\n",
              "      <th>147</th>\n",
              "      <td>6.5</td>\n",
              "      <td>3.0</td>\n",
              "      <td>5.2</td>\n",
              "      <td>2.0</td>\n",
              "      <td>virginica</td>\n",
              "    </tr>\n",
              "    <tr>\n",
              "      <th>148</th>\n",
              "      <td>6.2</td>\n",
              "      <td>3.4</td>\n",
              "      <td>5.4</td>\n",
              "      <td>2.3</td>\n",
              "      <td>virginica</td>\n",
              "    </tr>\n",
              "    <tr>\n",
              "      <th>149</th>\n",
              "      <td>5.9</td>\n",
              "      <td>3.0</td>\n",
              "      <td>5.1</td>\n",
              "      <td>1.8</td>\n",
              "      <td>virginica</td>\n",
              "    </tr>\n",
              "  </tbody>\n",
              "</table>\n",
              "<p>150 rows × 5 columns</p>\n",
              "</div>"
            ],
            "text/plain": [
              "     sepal_length  sepal_width  petal_length  petal_width    species\n",
              "0             5.1          3.5           1.4          0.2     setosa\n",
              "1             4.9          3.0           1.4          0.2     setosa\n",
              "2             4.7          3.2           1.3          0.2     setosa\n",
              "3             4.6          3.1           1.5          0.2     setosa\n",
              "4             5.0          3.6           1.4          0.2     setosa\n",
              "..            ...          ...           ...          ...        ...\n",
              "145           6.7          3.0           5.2          2.3  virginica\n",
              "146           6.3          2.5           5.0          1.9  virginica\n",
              "147           6.5          3.0           5.2          2.0  virginica\n",
              "148           6.2          3.4           5.4          2.3  virginica\n",
              "149           5.9          3.0           5.1          1.8  virginica\n",
              "\n",
              "[150 rows x 5 columns]"
            ]
          },
          "metadata": {},
          "execution_count": 55
        }
      ]
    },
    {
      "cell_type": "code",
      "metadata": {
        "colab": {
          "base_uri": "https://localhost:8080/"
        },
        "id": "geographic-kazakhstan",
        "outputId": "6621aa3f-6fc3-4fa0-bea7-8082718a2498"
      },
      "source": [
        "numeric_cols"
      ],
      "id": "geographic-kazakhstan",
      "execution_count": 56,
      "outputs": [
        {
          "output_type": "execute_result",
          "data": {
            "text/plain": [
              "['sepal_length', 'sepal_width', 'petal_length', 'petal_width']"
            ]
          },
          "metadata": {},
          "execution_count": 56
        }
      ]
    },
    {
      "cell_type": "code",
      "metadata": {
        "id": "electoral-party"
      },
      "source": [
        "from sklearn.decomposition import PCA"
      ],
      "id": "electoral-party",
      "execution_count": 57,
      "outputs": []
    },
    {
      "cell_type": "code",
      "metadata": {
        "id": "equipped-wheel"
      },
      "source": [
        "pca = PCA(n_components=2)"
      ],
      "id": "equipped-wheel",
      "execution_count": 58,
      "outputs": []
    },
    {
      "cell_type": "code",
      "metadata": {
        "colab": {
          "base_uri": "https://localhost:8080/"
        },
        "id": "assured-catch",
        "outputId": "530ce88d-fcbb-4816-bade-39e4ddd47a58"
      },
      "source": [
        "pca.fit(iris_df[numeric_cols])"
      ],
      "id": "assured-catch",
      "execution_count": 59,
      "outputs": [
        {
          "output_type": "execute_result",
          "data": {
            "text/plain": [
              "PCA(copy=True, iterated_power='auto', n_components=2, random_state=None,\n",
              "    svd_solver='auto', tol=0.0, whiten=False)"
            ]
          },
          "metadata": {},
          "execution_count": 59
        }
      ]
    },
    {
      "cell_type": "code",
      "metadata": {
        "colab": {
          "base_uri": "https://localhost:8080/"
        },
        "id": "characteristic-certificate",
        "outputId": "7d32a27d-a066-418f-a71c-ba80bafa8e5a"
      },
      "source": [
        "pca"
      ],
      "id": "characteristic-certificate",
      "execution_count": 60,
      "outputs": [
        {
          "output_type": "execute_result",
          "data": {
            "text/plain": [
              "PCA(copy=True, iterated_power='auto', n_components=2, random_state=None,\n",
              "    svd_solver='auto', tol=0.0, whiten=False)"
            ]
          },
          "metadata": {},
          "execution_count": 60
        }
      ]
    },
    {
      "cell_type": "code",
      "metadata": {
        "id": "ongoing-complaint"
      },
      "source": [
        "transformed = pca.transform(iris_df[numeric_cols])"
      ],
      "id": "ongoing-complaint",
      "execution_count": 61,
      "outputs": []
    },
    {
      "cell_type": "code",
      "metadata": {
        "colab": {
          "base_uri": "https://localhost:8080/",
          "height": 269
        },
        "id": "specific-traveler",
        "outputId": "d19852eb-f27e-40a4-ed6d-945083b51f8c"
      },
      "source": [
        "sns.scatterplot(x=transformed[:,0], y=transformed[:,1], hue=iris_df['species']);"
      ],
      "id": "specific-traveler",
      "execution_count": 62,
      "outputs": [
        {
          "output_type": "display_data",
          "data": {
            "image/png": "[encoded data removed]",
            "text/plain": [
              "<Figure size 432x288 with 1 Axes>"
            ]
          },
          "metadata": {
            "needs_background": "light"
          }
        }
      ]
    },
    {
      "cell_type": "markdown",
      "metadata": {
        "id": "radio-terminal"
      },
      "source": [
        "As you can see, the PCA algorithm has done a very good job of separating different species of flowers using just 2 measures."
      ],
      "id": "radio-terminal"
    },
    {
      "cell_type": "markdown",
      "metadata": {
        "id": "right-exchange"
      },
      "source": [
        "> **EXERCISE**: Apply Principal Component Analysis to a large high-dimensional dataset and train a machine learning model using the low-dimensional results. Observe the changes in the loss and training time for different numbers of target dimensions."
      ],
      "id": "right-exchange"
    },
    {
      "cell_type": "markdown",
      "metadata": {
        "id": "moderate-secret"
      },
      "source": [
        "Learn more about Principal Component Analysis here: https://jakevdp.github.io/PythonDataScienceHandbook/05.09-principal-component-analysis.html"
      ],
      "id": "moderate-secret"
    },
    {
      "cell_type": "markdown",
      "metadata": {
        "id": "automatic-alfred"
      },
      "source": [
        "### t-Distributed Stochastic Neighbor Embedding (t-SNE)\n",
        "\n",
        "Manifold learning is an approach to non-linear dimensionality reduction. Algorithms for this task are based on the idea that the dimensionality of many data sets is only artificially high. Scikit-learn provides many algorithms for manifold learning: https://scikit-learn.org/stable/modules/manifold.html . A commonly-used manifold learning technique is t-Distributed Stochastic Neighbor Embedding or t-SNE, used to visualize high dimensional data in one, two or three dimensions. \n",
        "\n",
        "Here's a visual representation of t-SNE applied to visualize 2 dimensional data in 1 dimension:\n",
        "\n",
        "<img src=\"https://i.imgur.com/rVMAaix.png\" width=\"360\">\n",
        "\n",
        "\n",
        "Here's a visual representation of t-SNE applied to the MNIST dataset, which contains 28px x 28px images of handrwritten digits 0 to 9, a reduction from 784 dimensions to 2 dimensions ([source](https://colah.github.io/posts/2014-10-Visualizing-MNIST/)):\n",
        "\n",
        "<img src=\"https://indico.io/wp-content/uploads/2015/08/mnist-1024x607-1.jpg\" width=\"640\">\n",
        "\n",
        "Here's a video explaning how t-SNE works: https://www.youtube.com/watch?v=NEaUSP4YerM"
      ],
      "id": "automatic-alfred"
    },
    {
      "cell_type": "code",
      "metadata": {
        "id": "independent-allergy"
      },
      "source": [
        "from sklearn.manifold import TSNE"
      ],
      "id": "independent-allergy",
      "execution_count": 63,
      "outputs": []
    },
    {
      "cell_type": "code",
      "metadata": {
        "id": "legislative-advertiser"
      },
      "source": [
        "tsne = TSNE(n_components=2)"
      ],
      "id": "legislative-advertiser",
      "execution_count": 64,
      "outputs": []
    },
    {
      "cell_type": "code",
      "metadata": {
        "id": "ceramic-interim"
      },
      "source": [
        "transformed = tsne.fit_transform(iris_df[numeric_cols])"
      ],
      "id": "ceramic-interim",
      "execution_count": 65,
      "outputs": []
    },
    {
      "cell_type": "code",
      "metadata": {
        "colab": {
          "base_uri": "https://localhost:8080/",
          "height": 265
        },
        "id": "exclusive-textbook",
        "outputId": "ebef96b9-5ab1-4e19-af70-8e5b8581ba37"
      },
      "source": [
        "sns.scatterplot(x=transformed[:,0], y=transformed[:,1], hue=iris_df['species']);"
      ],
      "id": "exclusive-textbook",
      "execution_count": 66,
      "outputs": [
        {
          "output_type": "display_data",
          "data": {
            "image/png": "[encoded data removed]",
            "text/plain": [
              "<Figure size 432x288 with 1 Axes>"
            ]
          },
          "metadata": {
            "needs_background": "light"
          }
        }
      ]
    },
    {
      "cell_type": "markdown",
      "metadata": {
        "id": "verified-sperm"
      },
      "source": [
        "As you can see, the flowers from the same species are clustered very closely together. The relative distance between the species is also conveyed by the gaps between the clusters."
      ],
      "id": "verified-sperm"
    },
    {
      "cell_type": "markdown",
      "metadata": {
        "id": "domestic-permission"
      },
      "source": [
        "> **EXERCISE**: Use t-SNE to visualize the [MNIST handwritten digits dataset](https://www.kaggle.com/oddrationale/mnist-in-csv)."
      ],
      "id": "domestic-permission"
    },
    {
      "cell_type": "markdown",
      "metadata": {
        "id": "identified-communications"
      },
      "source": [
        "## Summary and References\n",
        "\n",
        "<img src=\"https://i.imgur.com/VbVFAsg.png\" width=\"640\">\n",
        "\n",
        "The following topics were covered in this tutorial:\n",
        "\n",
        "- Overview of unsupervised learning algorithms in Scikit-learn\n",
        "- Clustering algorithms: K Means, DBScan, Hierarchical clustering etc.\n",
        "- Dimensionality reduction (PCA) and manifold learning (t-SNE)\n",
        "\n",
        "\n",
        "Check out these resources to learn more:\n",
        "\n",
        "- https://www.coursera.org/learn/machine-learning\n",
        "- https://dashee87.github.io/data%20science/general/Clustering-with-Scikit-with-GIFs/\n",
        "- https://scikit-learn.org/stable/unsupervised_learning.html\n",
        "- https://scikit-learn.org/stable/modules/clustering.html"
      ],
      "id": "identified-communications"
    }
  ]
}