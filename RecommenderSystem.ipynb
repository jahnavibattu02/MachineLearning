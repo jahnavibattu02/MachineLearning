{
  "nbformat": 4,
  "nbformat_minor": 0,
  "metadata": {
    "kernelspec": {
      "display_name": "Python 3",
      "language": "python",
      "name": "python3"
    },
    "language_info": {
      "codemirror_mode": {
        "name": "ipython",
        "version": 3
      },
      "file_extension": ".py",
      "mimetype": "text/x-python",
      "name": "python",
      "nbconvert_exporter": "python",
      "pygments_lexer": "ipython3",
      "version": "3.8.6"
    },
    "colab": {
      "name": "SaiDileepKumarMukkamala_RecommenderSystem.ipynb",
      "provenance": []
    }
  },
  "cells": [
    {
      "cell_type": "markdown",
      "metadata": {
        "id": "Z3tylEs2zdaN"
      },
      "source": [
        "# \"How's that movie?\" -  Collaborative filtering with FastAI\n",
        "\n",
        "*Build a state-of-the-art movie recommendation system with just 10 lines of code*\n",
        "\n",
        "<img src=\"https://cdn-images-1.medium.com/max/1200/1*UCnwjtYoYoJtWM7DxzRT0A.jpeg\" style=\"width:480px;\"/>\n",
        "\n",
        "Recommender systems are at the core of pretty much every online service we interact with. Social networking sites like Facebook, Twitter and Instagram recommend posts you might like, or people you might know. Video streaming services like YouTube and Netflix recommend videos, movies or TV shows you might like. Online shopping sites like Amazon recommend products you might want to buy. \n",
        "\n",
        "**Collaborative** filtering is perhaps the most common technique used by recommender systems.\n",
        "\n",
        "> *Collaborative filtering is a method of making predictions about the interests of a user by collecting preferences from many users. The underlying assumption is that if a person A has the same opinion as a person B on an issue, A is more likely to have B's opinion on a different issue than that of a randomly chosen person.* - [Wikipedia](https://medium.com/r/?url=https%3A%2F%2Fen.wikipedia.org%2Fwiki%2FCollaborative_filtering)\n",
        "\n",
        "The [librec](https://medium.com/r/?url=https%3A%2F%2Fwww.librec.net%2F) Java library provides [over 70 different algorithms](https://medium.com/r/?url=https%3A%2F%2Fwww.librec.net%2Fdokuwiki%2Fdoku.php%3Fid%3DAlgorithmList%23recommender_algorithm_list) for collaborative filtering. In this post however, we'll implement a relatively new technique called *neural collaborative filtering*."
      ]
    },
    {
      "cell_type": "markdown",
      "metadata": {
        "id": "SbiG41rtzdaP"
      },
      "source": [
        "## The MovieLens 100K Dataset\n",
        "\n",
        "The [MovieLens 100K dataset](https://grouplens.org/datasets/movielens/) is a collection of movie ratings by 943 users on 1682 movies. There are 100,000 ratings in total, since not every user has seen and rated every movie. Here are some sample ratings from the dataset:\n",
        "\n",
        "<img src=\"https://cdn-images-1.medium.com/max/800/1*OZLI7a0ueujHzj5NG3oRlQ.png\" style=\"width:360px\" />\n",
        "\n",
        "Every user is given a unique numeric ID (ranging from 1 to 943), and each movie is given a unique numeric ID too (ranging from 1 to 1682). User's ratings for movies are integers ranging from 1 to 5, with 5 being the highest.\n",
        "\n",
        "Our objective here is to build a *model* that can predict how a user would rate a movie they haven't already seen, by looking at the movie ratings of other users with similar tastes."
      ]
    },
    {
      "cell_type": "markdown",
      "metadata": {
        "id": "bXvu19bTzdaQ"
      },
      "source": [
        "## System Setup\n",
        "\n",
        "If you want to follow along and run the code as you read, you can clone this notebook, install the required dependencies using [conda](https://conda.io), and start Jupyter by running the following commands on the terminal:\n",
        "\n",
        "```\n",
        "pip install jovian --upgrade     # Install the jovian library \n",
        "jovian clone 5bc23520933b4cc187cfe18e5dd7e2ed # Download notebook\n",
        "cd movielens-fastai              # Enter the created directory \n",
        "jovian install                   # Install the dependencies\n",
        "conda activate movielens-fastai  # Activate virtual environment\n",
        "jupyter notebook                 # Start Jupyter\n",
        "```\n",
        "\n",
        "Make sure you have [conda](https://conda.io) installed before running the above commands. You can also click on the **\"Run on Binder\"** button at the top to start a Jupyter notebook server hosted on mybinder.org  instantly."
      ]
    },
    {
      "cell_type": "markdown",
      "metadata": {
        "id": "c9A94LXYzdaR"
      },
      "source": [
        "## Preparing the Data\n",
        "\n",
        "You can download the MovieLens 100K dataset [from this link](https://medium.com/r/?url=http%3A%2F%2Ffiles.grouplens.org%2Fdatasets%2Fmovielens%2Fml-100k.zip). Once downloaded, unzip and extract the data into a directory ml-100k next to the Jupyter notebook. As described in the [README](https://medium.com/r/?url=http%3A%2F%2Ffiles.grouplens.org%2Fdatasets%2Fmovielens%2Fml-100k-README.txt), the file u.data contains the list of ratings.\n",
        "\n",
        "*On Linux and Mac, you can simply run the follwing cell to download and extract the data:*"
      ]
    },
    {
      "cell_type": "code",
      "metadata": {
        "colab": {
          "base_uri": "https://localhost:8080/"
        },
        "id": "S8qzw6YhzdaS",
        "outputId": "eafeba4d-bb3b-4e1c-b242-9f5a305cb470"
      },
      "source": [
        "# Download and extract the data (only for Linux and Mac)\n",
        "!rm -rf ml-100k ml-100k.zip\n",
        "!wget -q http://files.grouplens.org/datasets/movielens/ml-100k.zip\n",
        "!unzip -q ml-100k.zip\n",
        "!ls ml-100k"
      ],
      "execution_count": 1,
      "outputs": [
        {
          "output_type": "stream",
          "name": "stdout",
          "text": [
            "allbut.pl  u1.base  u2.test  u4.base  u5.test  ub.base\tu.genre  u.occupation\n",
            "mku.sh\t   u1.test  u3.base  u4.test  ua.base  ub.test\tu.info\t u.user\n",
            "README\t   u2.base  u3.test  u5.base  ua.test  u.data\tu.item\n"
          ]
        }
      ]
    },
    {
      "cell_type": "markdown",
      "metadata": {
        "id": "GMpewmtKzdaT"
      },
      "source": [
        "We begin the importing the required modules from Pandas and FastAI."
      ]
    },
    {
      "cell_type": "code",
      "metadata": {
        "colab": {
          "base_uri": "https://localhost:8080/"
        },
        "id": "WtcwJkE8zdaT",
        "outputId": "5bc26012-098b-4d39-8caa-5f73aa045a0a"
      },
      "source": [
        "!pip install fastai==1.0.50 --quiet"
      ],
      "execution_count": 2,
      "outputs": [
        {
          "output_type": "stream",
          "name": "stdout",
          "text": [
            "\u001b[?25l\r\u001b[K     |█▋                              | 10 kB 24.1 MB/s eta 0:00:01\r\u001b[K     |███▏                            | 20 kB 29.0 MB/s eta 0:00:01\r\u001b[K     |████▊                           | 30 kB 32.3 MB/s eta 0:00:01\r\u001b[K     |██████▎                         | 40 kB 35.3 MB/s eta 0:00:01\r\u001b[K     |███████▉                        | 51 kB 38.2 MB/s eta 0:00:01\r\u001b[K     |█████████▍                      | 61 kB 40.6 MB/s eta 0:00:01\r\u001b[K     |███████████                     | 71 kB 34.8 MB/s eta 0:00:01\r\u001b[K     |████████████▌                   | 81 kB 35.8 MB/s eta 0:00:01\r\u001b[K     |██████████████                  | 92 kB 31.6 MB/s eta 0:00:01\r\u001b[K     |███████████████▋                | 102 kB 33.6 MB/s eta 0:00:01\r\u001b[K     |█████████████████▏              | 112 kB 33.6 MB/s eta 0:00:01\r\u001b[K     |██████████████████▊             | 122 kB 33.6 MB/s eta 0:00:01\r\u001b[K     |████████████████████▎           | 133 kB 33.6 MB/s eta 0:00:01\r\u001b[K     |█████████████████████▉          | 143 kB 33.6 MB/s eta 0:00:01\r\u001b[K     |███████████████████████▍        | 153 kB 33.6 MB/s eta 0:00:01\r\u001b[K     |█████████████████████████       | 163 kB 33.6 MB/s eta 0:00:01\r\u001b[K     |██████████████████████████▌     | 174 kB 33.6 MB/s eta 0:00:01\r\u001b[K     |████████████████████████████    | 184 kB 33.6 MB/s eta 0:00:01\r\u001b[K     |█████████████████████████████▋  | 194 kB 33.6 MB/s eta 0:00:01\r\u001b[K     |███████████████████████████████▏| 204 kB 33.6 MB/s eta 0:00:01\r\u001b[K     |████████████████████████████████| 210 kB 33.6 MB/s \n",
            "\u001b[?25h\u001b[?25l\r\u001b[K     |████▏                           | 10 kB 28.8 MB/s eta 0:00:01\r\u001b[K     |████████▍                       | 20 kB 31.7 MB/s eta 0:00:01\r\u001b[K     |████████████▌                   | 30 kB 36.2 MB/s eta 0:00:01\r\u001b[K     |████████████████▊               | 40 kB 38.2 MB/s eta 0:00:01\r\u001b[K     |████████████████████▉           | 51 kB 39.4 MB/s eta 0:00:01\r\u001b[K     |█████████████████████████       | 61 kB 41.9 MB/s eta 0:00:01\r\u001b[K     |█████████████████████████████▏  | 71 kB 44.0 MB/s eta 0:00:01\r\u001b[K     |████████████████████████████████| 78 kB 7.1 MB/s \n",
            "\u001b[?25h  Building wheel for typing (setup.py) ... \u001b[?25l\u001b[?25hdone\n"
          ]
        }
      ]
    },
    {
      "cell_type": "code",
      "metadata": {
        "id": "CGR0JZ4KzdaU"
      },
      "source": [
        "import pandas as pd\n",
        "from fastai.collab import CollabDataBunch, collab_learner"
      ],
      "execution_count": 3,
      "outputs": []
    },
    {
      "cell_type": "markdown",
      "metadata": {
        "id": "34v7WWmozdaU"
      },
      "source": [
        "We can now read the data from the CSV file `u.data` into a Pandas [data frame](https://medium.com/r/?url=https%3A%2F%2Fpandas.pydata.org%2Fpandas-docs%2Fstable%2Freference%2Fapi%2Fpandas.DataFrame.html), and create a FastAI [data bunch](https://medium.com/r/?url=https%3A%2F%2Fdocs.fast.ai%2Fbasic_data.html%23Get-your-data-ready-for-training) which:\n",
        "\n",
        "1. Converts the Pandas data frame into tensors\n",
        "2. It splits the data into a training set and a validation set\n",
        "3. Creates data loaders to access the data in batches\n",
        "4. Checks if a GPU is available, and moves the data to the GPU"
      ]
    },
    {
      "cell_type": "code",
      "metadata": {
        "colab": {
          "base_uri": "https://localhost:8080/",
          "height": 203
        },
        "id": "saQg0JAhzdaV",
        "outputId": "1899843b-faea-4c3f-e4eb-69aaaabf3f4a"
      },
      "source": [
        "cols = ['User ID','Movie ID','Rating','Timestamp']\n",
        "ratings_df = pd.read_csv('ml-100k/u.data', delimiter='\\t', \n",
        "                         header=None, names=cols)\n",
        "ratings_df.sample(5)"
      ],
      "execution_count": 4,
      "outputs": [
        {
          "output_type": "execute_result",
          "data": {
            "text/html": [
              "<div>\n",
              "<style scoped>\n",
              "    .dataframe tbody tr th:only-of-type {\n",
              "        vertical-align: middle;\n",
              "    }\n",
              "\n",
              "    .dataframe tbody tr th {\n",
              "        vertical-align: top;\n",
              "    }\n",
              "\n",
              "    .dataframe thead th {\n",
              "        text-align: right;\n",
              "    }\n",
              "</style>\n",
              "<table border=\"1\" class=\"dataframe\">\n",
              "  <thead>\n",
              "    <tr style=\"text-align: right;\">\n",
              "      <th></th>\n",
              "      <th>User ID</th>\n",
              "      <th>Movie ID</th>\n",
              "      <th>Rating</th>\n",
              "      <th>Timestamp</th>\n",
              "    </tr>\n",
              "  </thead>\n",
              "  <tbody>\n",
              "    <tr>\n",
              "      <th>44856</th>\n",
              "      <td>458</td>\n",
              "      <td>696</td>\n",
              "      <td>3</td>\n",
              "      <td>886395512</td>\n",
              "    </tr>\n",
              "    <tr>\n",
              "      <th>2134</th>\n",
              "      <td>299</td>\n",
              "      <td>641</td>\n",
              "      <td>4</td>\n",
              "      <td>889501514</td>\n",
              "    </tr>\n",
              "    <tr>\n",
              "      <th>63913</th>\n",
              "      <td>530</td>\n",
              "      <td>196</td>\n",
              "      <td>5</td>\n",
              "      <td>883784601</td>\n",
              "    </tr>\n",
              "    <tr>\n",
              "      <th>34520</th>\n",
              "      <td>119</td>\n",
              "      <td>823</td>\n",
              "      <td>3</td>\n",
              "      <td>874775406</td>\n",
              "    </tr>\n",
              "    <tr>\n",
              "      <th>54655</th>\n",
              "      <td>322</td>\n",
              "      <td>654</td>\n",
              "      <td>5</td>\n",
              "      <td>887314118</td>\n",
              "    </tr>\n",
              "  </tbody>\n",
              "</table>\n",
              "</div>"
            ],
            "text/plain": [
              "       User ID  Movie ID  Rating  Timestamp\n",
              "44856      458       696       3  886395512\n",
              "2134       299       641       4  889501514\n",
              "63913      530       196       5  883784601\n",
              "34520      119       823       3  874775406\n",
              "54655      322       654       5  887314118"
            ]
          },
          "metadata": {},
          "execution_count": 4
        }
      ]
    },
    {
      "cell_type": "code",
      "metadata": {
        "colab": {
          "base_uri": "https://localhost:8080/",
          "height": 203
        },
        "id": "4bJQUU_FzdaV",
        "outputId": "1a197126-5229-4011-ce49-b55c85ba6d70"
      },
      "source": [
        "data = CollabDataBunch.from_df(ratings_df, valid_pct=0.1)\n",
        "data.show_batch()"
      ],
      "execution_count": 5,
      "outputs": [
        {
          "output_type": "display_data",
          "data": {
            "text/html": [
              "<table border=\"1\" class=\"dataframe\">\n",
              "  <thead>\n",
              "    <tr style=\"text-align: right;\">\n",
              "      <th>User ID</th>\n",
              "      <th>Movie ID</th>\n",
              "      <th>target</th>\n",
              "    </tr>\n",
              "  </thead>\n",
              "  <tbody>\n",
              "    <tr>\n",
              "      <td>423</td>\n",
              "      <td>355</td>\n",
              "      <td>3.0</td>\n",
              "    </tr>\n",
              "    <tr>\n",
              "      <td>64</td>\n",
              "      <td>356</td>\n",
              "      <td>3.0</td>\n",
              "    </tr>\n",
              "    <tr>\n",
              "      <td>145</td>\n",
              "      <td>752</td>\n",
              "      <td>4.0</td>\n",
              "    </tr>\n",
              "    <tr>\n",
              "      <td>487</td>\n",
              "      <td>230</td>\n",
              "      <td>5.0</td>\n",
              "    </tr>\n",
              "    <tr>\n",
              "      <td>399</td>\n",
              "      <td>151</td>\n",
              "      <td>2.0</td>\n",
              "    </tr>\n",
              "  </tbody>\n",
              "</table>"
            ],
            "text/plain": [
              "<IPython.core.display.HTML object>"
            ]
          },
          "metadata": {}
        }
      ]
    },
    {
      "cell_type": "markdown",
      "metadata": {
        "id": "v5OmdiZ8zdaV"
      },
      "source": [
        "## Collaborative filtering model\n",
        "\n",
        "The model itself is quite simple. We represent each user `u` and each movie `m` by vector of a predefined length `n`. The rating for the movie `m` by the user `u`, as predicted by the model is simply the dot product of the two vectors.\n",
        "\n",
        "<img src=\"https://cdn-images-1.medium.com/max/800/1*RuAjbXDwvTAv74NtPS-FbQ.png\" style=\"width:360px\"/>\n",
        "\n",
        "Here's a small subset of the users and movies, represented by randomly chosen vectors of length 5, and the predicted ratings:\n",
        "\n",
        "<img src=\"https://cdn-images-1.medium.com/max/1600/1*y9H2v3PsytrCajWSNJJDsA.png\" style=\"width:480px\"/>\n",
        "\n",
        "Since the vectors are chosen randomly, it's quite unlikely that the ratings predicted by the model match the actual ratings. Our objective, while training the model, is to gradually adjust the elements inside the user & movie vectors so that predicted ratings get closer to the actual ratings.\n",
        "\n",
        "We can use the `collab_learner` method from `fastai` to create a neural collaborative filtering model."
      ]
    },
    {
      "cell_type": "code",
      "metadata": {
        "id": "OgfuUl-OzdaW"
      },
      "source": [
        "learn = collab_learner(data, n_factors=40, y_range=[0,5.5], wd=.1)"
      ],
      "execution_count": 6,
      "outputs": []
    },
    {
      "cell_type": "markdown",
      "metadata": {
        "id": "mVvm3bq2zdaW"
      },
      "source": [
        "The actual model created here contains 2 important enhancements on the simpler version described earlier:\n",
        "\n",
        "First, apart from the vectors for users and movies, it also add bias terms to account for outliers, since some users tend to always rate movies very high or very low, and some movies tend to be universally acclaimed or disliked.\n",
        "\n",
        "<img src=\"https://cdn-images-1.medium.com/max/800/1*vF7oEwpuKfXP8_CYK_KgdQ.png\" style=\"width:360px\" />\n",
        "\n",
        "Second, it applies the Sigmoid activation function to the above output, and scales it so that the result always lies in the given `y_range`, which is 0 to 5.5 in this case.\n",
        "\n",
        "<img src=\"https://cdn-images-1.medium.com/max/800/1*NloTSPs4pCMYDZ8G1kxhoQ.png\" style=\"width:420px\"/>"
      ]
    },
    {
      "cell_type": "markdown",
      "metadata": {
        "id": "NQnlGM-TzdaW"
      },
      "source": [
        "## Training the model\n",
        "\n",
        "\n",
        "<img src=\"https://www.deepnetts.com/blog/wp-content/uploads/2019/02/SupervisedLearning.png\" width=\"640\">\n",
        "\n",
        "The learner uses the [*mean squared error*](https://en.wikipedia.org/wiki/Mean_squared_error) loss function to evaluate the predictions of the model, and the [Adam optimizer](https://machinelearningmastery.com/adam-optimization-algorithm-for-deep-learning/) to adjust the parameters (vectors and biases) using [gradient descent](https://www.youtube.com/watch?v=sDv4f4s2SB8). Before we train the model, we use the [learning rate finder](https://docs.fast.ai/callbacks.lr_finder.html) to select a good learning for the optimizer."
      ]
    },
    {
      "cell_type": "code",
      "metadata": {
        "colab": {
          "base_uri": "https://localhost:8080/",
          "height": 375
        },
        "id": "Qu0vCbSTzdaW",
        "outputId": "e47ff3ae-293d-4407-de92-96521f03274c"
      },
      "source": [
        "learn.lr_find()\n",
        "learn.recorder.plot(skip_end=15)"
      ],
      "execution_count": 7,
      "outputs": [
        {
          "output_type": "display_data",
          "data": {
            "text/html": [
              "\n",
              "    <div>\n",
              "        <style>\n",
              "            /* Turns off some styling */\n",
              "            progress {\n",
              "                /* gets rid of default border in Firefox and Opera. */\n",
              "                border: none;\n",
              "                /* Needs to be in here for Safari polyfill so background images work as expected. */\n",
              "                background-size: auto;\n",
              "            }\n",
              "            .progress-bar-interrupted, .progress-bar-interrupted::-webkit-progress-bar {\n",
              "                background: #F44336;\n",
              "            }\n",
              "        </style>\n",
              "      <progress value='0' class='' max='1' style='width:300px; height:20px; vertical-align: middle;'></progress>\n",
              "      0.00% [0/1 00:00<00:00]\n",
              "    </div>\n",
              "    \n",
              "<table border=\"1\" class=\"dataframe\">\n",
              "  <thead>\n",
              "    <tr style=\"text-align: left;\">\n",
              "      <th>epoch</th>\n",
              "      <th>train_loss</th>\n",
              "      <th>valid_loss</th>\n",
              "      <th>time</th>\n",
              "    </tr>\n",
              "  </thead>\n",
              "  <tbody>\n",
              "  </tbody>\n",
              "</table><p>\n",
              "\n",
              "    <div>\n",
              "        <style>\n",
              "            /* Turns off some styling */\n",
              "            progress {\n",
              "                /* gets rid of default border in Firefox and Opera. */\n",
              "                border: none;\n",
              "                /* Needs to be in here for Safari polyfill so background images work as expected. */\n",
              "                background-size: auto;\n",
              "            }\n",
              "            .progress-bar-interrupted, .progress-bar-interrupted::-webkit-progress-bar {\n",
              "                background: #F44336;\n",
              "            }\n",
              "        </style>\n",
              "      <progress value='95' class='' max='1406' style='width:300px; height:20px; vertical-align: middle;'></progress>\n",
              "      6.76% [95/1406 00:00<00:11 2.7111]\n",
              "    </div>\n",
              "    "
            ],
            "text/plain": [
              "<IPython.core.display.HTML object>"
            ]
          },
          "metadata": {}
        },
        {
          "output_type": "stream",
          "name": "stdout",
          "text": [
            "LR Finder is complete, type {learner_name}.recorder.plot() to see the graph.\n"
          ]
        },
        {
          "output_type": "display_data",
          "data": {
            "image/png": "[encoded data removed]",
            "text/plain": [
              "<Figure size 432x288 with 1 Axes>"
            ]
          },
          "metadata": {
            "needs_background": "light"
          }
        }
      ]
    },
    {
      "cell_type": "markdown",
      "metadata": {
        "id": "6iCSApZMzdaX"
      },
      "source": [
        "Upon inspection of the graph, we can see that the decrease in loss starts to decrease when the learning rate is around `0.01`. We can choose this as our learning rate, and train for 5 epochs, while annealing the learning rate using the [1-cycle policy](https://sgugger.github.io/the-1cycle-policy.html), which leads to faster convergence."
      ]
    },
    {
      "cell_type": "code",
      "metadata": {
        "colab": {
          "base_uri": "https://localhost:8080/",
          "height": 203
        },
        "id": "VuafeDeuzdaX",
        "outputId": "355f881c-df8c-48d5-a555-e04fc7619ed7"
      },
      "source": [
        "learn.fit_one_cycle(5, 0.01)"
      ],
      "execution_count": 8,
      "outputs": [
        {
          "output_type": "display_data",
          "data": {
            "text/html": [
              "<table border=\"1\" class=\"dataframe\">\n",
              "  <thead>\n",
              "    <tr style=\"text-align: left;\">\n",
              "      <th>epoch</th>\n",
              "      <th>train_loss</th>\n",
              "      <th>valid_loss</th>\n",
              "      <th>time</th>\n",
              "    </tr>\n",
              "  </thead>\n",
              "  <tbody>\n",
              "    <tr>\n",
              "      <td>0</td>\n",
              "      <td>0.922088</td>\n",
              "      <td>0.979046</td>\n",
              "      <td>00:10</td>\n",
              "    </tr>\n",
              "    <tr>\n",
              "      <td>1</td>\n",
              "      <td>0.929447</td>\n",
              "      <td>0.922144</td>\n",
              "      <td>00:09</td>\n",
              "    </tr>\n",
              "    <tr>\n",
              "      <td>2</td>\n",
              "      <td>0.793214</td>\n",
              "      <td>0.869246</td>\n",
              "      <td>00:09</td>\n",
              "    </tr>\n",
              "    <tr>\n",
              "      <td>3</td>\n",
              "      <td>0.659974</td>\n",
              "      <td>0.835862</td>\n",
              "      <td>00:09</td>\n",
              "    </tr>\n",
              "    <tr>\n",
              "      <td>4</td>\n",
              "      <td>0.483224</td>\n",
              "      <td>0.839254</td>\n",
              "      <td>00:09</td>\n",
              "    </tr>\n",
              "  </tbody>\n",
              "</table>"
            ],
            "text/plain": [
              "<IPython.core.display.HTML object>"
            ]
          },
          "metadata": {}
        }
      ]
    },
    {
      "cell_type": "markdown",
      "metadata": {
        "id": "351N709szdaX"
      },
      "source": [
        "In just 30 seconds, the mean squared error has come down to around 0.80, which is quite close to the state of the art (as compared with [these benchmarks](https://medium.com/r/?url=https%3A%2F%2Fwww.librec.net%2Frelease%2Fv1.3%2Fexample.html)). And it only took us 8 lines of code to load the data and train the model!"
      ]
    },
    {
      "cell_type": "markdown",
      "metadata": {
        "id": "gZX8CP5dzdaX"
      },
      "source": [
        "## Looking at some predictions\n",
        "\n",
        "While it's great to see the loss go down, let's look at some actual predictions of the model."
      ]
    },
    {
      "cell_type": "code",
      "metadata": {
        "colab": {
          "base_uri": "https://localhost:8080/"
        },
        "id": "rJzx3DbLzdaY",
        "outputId": "d28be370-6404-4d45-dfc0-dc6dcfcccc39"
      },
      "source": [
        "(users, items), ratings = next(iter(data.valid_dl))\n",
        "preds = learn.model(users, items)\n",
        "print('Real\\tPred\\tDifference')\n",
        "for p in list(zip(ratings, preds))[:16]:\n",
        "    print('{}\\t{:.1f}\\t{:.1f}'.format(p[0],p[1],p[1]-p[0]))"
      ],
      "execution_count": 9,
      "outputs": [
        {
          "output_type": "stream",
          "name": "stdout",
          "text": [
            "Real\tPred\tDifference\n",
            "4.0\t3.6\t-0.4\n",
            "2.0\t3.4\t1.4\n",
            "5.0\t3.2\t-1.8\n",
            "5.0\t4.0\t-1.0\n",
            "3.0\t4.2\t1.2\n",
            "2.0\t2.5\t0.5\n",
            "4.0\t4.2\t0.2\n",
            "3.0\t3.3\t0.3\n",
            "2.0\t3.8\t1.8\n",
            "4.0\t4.3\t0.3\n",
            "2.0\t3.8\t1.8\n",
            "2.0\t2.2\t0.2\n",
            "4.0\t3.8\t-0.2\n",
            "4.0\t3.9\t-0.1\n",
            "4.0\t3.9\t-0.1\n",
            "2.0\t2.0\t0.0\n"
          ]
        }
      ]
    },
    {
      "cell_type": "markdown",
      "metadata": {
        "id": "NIBJ39IJzdaY"
      },
      "source": [
        "Indeed, the predictions are quite close to the actual ratings. We can now use this model to predict how users would rate movies they haven't seen, and recommend movies that have a high predicted rating.\n",
        "\n",
        "<img src=\"https://cdn-images-1.medium.com/max/800/1*YXlBhnk7cQw5cjbW9qBm0A.png\" style=\"max-width:480px\" />"
      ]
    },
    {
      "cell_type": "markdown",
      "metadata": {
        "id": "GnhFoJSSzdaa"
      },
      "source": [
        "## Further Reading\n",
        "\n",
        "In a future post, we'll dive deeper and see how `DataBunch` and `collab_learner` are actually implemented, using PyTorch. We'll also explore how we can interpret the vectors and biases learned by the model, and see some interesting results.\n",
        "\n",
        "In the meantime, following are some resources if you'd like to dive deeper into the topic:\n",
        "\n",
        "* [Lesson 4](https://course.fast.ai/videos/?lesson=4) of FastAI's \"Practical Deep Learning for Coders\" course\n",
        "\n",
        "* [Paper](https://arxiv.org/abs/1708.05031) introducing neural collaborative filtering\n",
        "\n",
        "* [PyTorch: Zero to GANs](https://medium.com/jovian-io/pytorch-basics-tensors-and-gradients-eb2f6e8a6eee)  - tutorial series covering the basics of PyTorch and neural networks"
      ]
    }
  ]
}